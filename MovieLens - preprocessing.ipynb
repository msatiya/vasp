{
 "cells": [
  {
   "cell_type": "markdown",
   "id": "mexican-circus",
   "metadata": {},
   "source": [
    "Run cells bellow to download and preprocess the **MovieLens20M** dataset.\n",
    "\n",
    "Estimated time is around 45 minutes."
   ]
  },
  {
   "cell_type": "code",
   "execution_count": 1,
   "id": "higher-gross",
   "metadata": {},
   "outputs": [
    {
     "name": "stdout",
     "output_type": "stream",
     "text": [
      "--2023-04-20 10:04:28--  https://files.grouplens.org/datasets/movielens/ml-20m.zip\n",
      "Resolving files.grouplens.org (files.grouplens.org)... 128.101.65.152\n",
      "Connecting to files.grouplens.org (files.grouplens.org)|128.101.65.152|:443... connected.\n",
      "HTTP request sent, awaiting response... 200 OK\n",
      "Length: 198702078 (189M) [application/zip]\n",
      "Saving to: ‘ml-20m.zip’\n",
      "\n",
      "ml-20m.zip          100%[===================>] 189.50M  13.9MB/s    in 14s     \n",
      "\n",
      "2023-04-20 10:04:43 (13.2 MB/s) - ‘ml-20m.zip’ saved [198702078/198702078]\n",
      "\n"
     ]
    }
   ],
   "source": [
    "!wget https://files.grouplens.org/datasets/movielens/ml-20m.zip"
   ]
  },
  {
   "cell_type": "code",
   "execution_count": 2,
   "id": "sonic-burning",
   "metadata": {},
   "outputs": [
    {
     "name": "stdout",
     "output_type": "stream",
     "text": [
      "Archive:  ml-20m.zip\n",
      "   creating: ml-20m/\n",
      "  inflating: ml-20m/genome-scores.csv  \n",
      "  inflating: ml-20m/genome-tags.csv  \n",
      "  inflating: ml-20m/links.csv        \n",
      "  inflating: ml-20m/movies.csv       \n",
      "  inflating: ml-20m/ratings.csv      \n",
      "  inflating: ml-20m/README.txt       \n",
      "  inflating: ml-20m/tags.csv         \n"
     ]
    }
   ],
   "source": [
    "!unzip ml-20m.zip"
   ]
  },
  {
   "cell_type": "code",
   "execution_count": 2,
   "id": "pointed-presentation",
   "metadata": {},
   "outputs": [],
   "source": [
    "import pandas as pd"
   ]
  },
  {
   "cell_type": "markdown",
   "id": "desperate-oriental",
   "metadata": {},
   "source": [
    "All Items"
   ]
  },
  {
   "cell_type": "code",
   "execution_count": 4,
   "id": "coupled-romania",
   "metadata": {},
   "outputs": [],
   "source": [
    "m = pd.read_csv('ml-20m/movies.csv')\n",
    "m = m[m.movieId.notnull()].reindex()\n",
    "m['itemid']=m.movieId.apply(lambda x: str(int(x)))\n",
    "m['product_name'] = m['title']\n",
    "items = m[['itemid','product_name','genres']]\n",
    "items.to_json('items.json')"
   ]
  },
  {
   "cell_type": "markdown",
   "id": "decimal-premium",
   "metadata": {},
   "source": [
    "Purchases and grouped purchases."
   ]
  },
  {
   "cell_type": "code",
   "execution_count": 5,
   "id": "specific-welding",
   "metadata": {},
   "outputs": [],
   "source": [
    "interactions = pd.read_csv('ml-20m/ratings.csv')\n",
    "interactions = interactions[interactions.rating>=4.]\n",
    "interactions = interactions.sort_values(['userId','timestamp'])\n",
    "interactions['itemid'] = interactions['movieId'].apply(str)\n",
    "interactions['userid'] = interactions['userId'].apply(str)\n",
    "interactions['amount'] = 1\n",
    "interactions['date'] = interactions['timestamp']\n",
    "interactions[['itemid','userid','amount','date']]\n",
    "interactions.to_json(\"purchases.json\")\n",
    "interactions['itemids'] = interactions[['userid','itemid']].groupby(['userid'])['itemid'].transform(lambda x: ','.join(x))\n",
    "iii = interactions[['userId','itemids']].drop_duplicates()\n",
    "iii.to_json('purchases_txt.json')"
   ]
  },
  {
   "cell_type": "markdown",
   "id": "precious-advantage",
   "metadata": {},
   "source": [
    "Keep only users with 5 or more interactions.\n",
    "\n",
    "Purchases."
   ]
  },
  {
   "cell_type": "code",
   "execution_count": 6,
   "id": "precious-consequence",
   "metadata": {},
   "outputs": [],
   "source": [
    "purchases=pd.read_json('purchases.json')\n",
    "purchases['userid'] = purchases.userid.apply(str)\n",
    "purchases['itemid'] = purchases.itemid.apply(str)\n",
    "purchases_item_counts = purchases[['userid','itemid']]\n",
    "purchases_user_counts = purchases[['userid','itemid']]\n",
    "purchases_user_count = purchases.groupby(['userid']).size().to_frame('nr_of_purchases').reset_index()\n",
    "purchases_user_count = purchases_user_count.sort_values(by=['nr_of_purchases'], ascending=False)\n",
    "pu5=purchases_user_count[purchases_user_count.nr_of_purchases>=5]\n",
    "purchases_pu5 = purchases[purchases.userid.isin(pu5.userid)]\n",
    "purchases_item_count_pu5 = purchases_pu5.groupby(['itemid']).size().to_frame('nr_of_purchases').reset_index()\n",
    "purchases_item_count_pu5 = purchases_item_count_pu5.sort_values(by=['nr_of_purchases'], ascending=False)\n",
    "purchases_pu5.to_json('purchases_pu5.json')"
   ]
  },
  {
   "cell_type": "markdown",
   "id": "lesbian-profile",
   "metadata": {},
   "source": [
    "Grouped purchases."
   ]
  },
  {
   "cell_type": "code",
   "execution_count": 7,
   "id": "round-firewall",
   "metadata": {},
   "outputs": [
    {
     "name": "stderr",
     "output_type": "stream",
     "text": [
      "/tmp/ipykernel_10892/126306790.py:1: SettingWithCopyWarning: \n",
      "A value is trying to be set on a copy of a slice from a DataFrame.\n",
      "Try using .loc[row_indexer,col_indexer] = value instead\n",
      "\n",
      "See the caveats in the documentation: https://pandas.pydata.org/pandas-docs/stable/user_guide/indexing.html#returning-a-view-versus-a-copy\n",
      "  purchases_pu5['itemids'] = purchases_pu5[['userid','itemid']].groupby(['userid'])['itemid'].transform(lambda x: ','.join(x))\n"
     ]
    }
   ],
   "source": [
    "purchases_pu5['itemids'] = purchases_pu5[['userid','itemid']].groupby(['userid'])['itemid'].transform(lambda x: ','.join(x))\n",
    "iii = purchases_pu5[['userId','itemids']].drop_duplicates()\n",
    "iii['userid']=iii['userId'].apply(str)\n",
    "iii = iii[['userid','itemids']]\n",
    "iii.to_json('purchases_txt_pu5.json')"
   ]
  },
  {
   "cell_type": "markdown",
   "id": "optimum-source",
   "metadata": {},
   "source": [
    "Users."
   ]
  },
  {
   "cell_type": "code",
   "execution_count": 8,
   "id": "dramatic-optimum",
   "metadata": {},
   "outputs": [],
   "source": [
    "iii['userid'].to_frame().to_json('users_pu5.json')"
   ]
  },
  {
   "cell_type": "markdown",
   "id": "previous-citizenship",
   "metadata": {},
   "source": [
    "Items"
   ]
  },
  {
   "cell_type": "code",
   "execution_count": 9,
   "id": "utility-aurora",
   "metadata": {},
   "outputs": [],
   "source": [
    "items[items.itemid.isin(purchases_item_count_pu5.itemid)].to_json(\"items_pu5.json\")"
   ]
  },
  {
   "cell_type": "markdown",
   "id": "sitting-saying",
   "metadata": {},
   "source": [
    "Items sorted by number of interactions"
   ]
  },
  {
   "cell_type": "code",
   "execution_count": 10,
   "id": "suited-cabin",
   "metadata": {},
   "outputs": [],
   "source": [
    "purchases_item_count_pu5.to_json(\"items_sorted_pu5.json\")"
   ]
  },
  {
   "cell_type": "markdown",
   "id": "attached-center",
   "metadata": {},
   "source": [
    "Users sorted by number of interactions"
   ]
  },
  {
   "cell_type": "code",
   "execution_count": 11,
   "id": "included-george",
   "metadata": {},
   "outputs": [],
   "source": [
    "pu5.to_json(\"users_sorted_pu5.json\")"
   ]
  },
  {
   "cell_type": "markdown",
   "id": "growing-closer",
   "metadata": {},
   "source": [
    "Create train, val and test split."
   ]
  },
  {
   "cell_type": "code",
   "execution_count": 3,
   "id": "antique-surfing",
   "metadata": {},
   "outputs": [
    {
     "name": "stdout",
     "output_type": "stream",
     "text": [
      "          userid\n",
      "9483226    65567\n",
      "18812883  130320\n",
      "1125581     7677\n",
      "5262991    36081\n",
      "17249182  119275\n",
      "          userid\n",
      "15163263  104804\n",
      "13123091   90664\n",
      "11207540   77425\n",
      "9316001    64428\n",
      "13769119   95146\n",
      "          userid\n",
      "9141029    63177\n",
      "17703308  122423\n",
      "5668357    39001\n",
      "1562218    10557\n",
      "2448694    16563\n"
     ]
    },
    {
     "data": {
      "text/plain": [
       "(116677, 10000, 10000)"
      ]
     },
     "execution_count": 3,
     "metadata": {},
     "output_type": "execute_result"
    }
   ],
   "source": [
    "users = pd.read_json('users_pu5.json')\n",
    "shuffled_users = users.sample(frac=1., random_state=42)\n",
    "test_users = shuffled_users.iloc[:10000]\n",
    "val_users = shuffled_users.iloc[10000:20000]\n",
    "train_users = shuffled_users.iloc[20000:]\n",
    "\n",
    "#test_users.to_json(\"test_users.json\")\n",
    "print(test_users.head())\n",
    "#val_users.to_json(\"val_users.json\")\n",
    "print(val_users.head())\n",
    "#train_users.to_json(\"train_users.json\") \n",
    "print(train_users.head())\n",
    "\n",
    "len(train_users),len(val_users),len(test_users)"
   ]
  },
  {
   "cell_type": "markdown",
   "id": "together-cooler",
   "metadata": {},
   "source": [
    "List of generated json files with preprocessed data."
   ]
  },
  {
   "cell_type": "code",
   "execution_count": 13,
   "id": "naughty-aircraft",
   "metadata": {},
   "outputs": [
    {
     "name": "stdout",
     "output_type": "stream",
     "text": [
      "items.json\t       purchases_pu5.json      train_users.json\n",
      "items_pu5.json\t       purchases_txt.json      users_pu5.json\n",
      "items_sorted_pu5.json  purchases_txt_pu5.json  users_sorted_pu5.json\n",
      "purchases.json\t       test_users.json\t       val_users.json\n"
     ]
    },
    {
     "ename": "",
     "evalue": "",
     "output_type": "error",
     "traceback": [
      "\u001b[1;31mThe Kernel crashed while executing code in the the current cell or a previous cell. Please review the code in the cell(s) to identify a possible cause of the failure. Click <a href='https://aka.ms/vscodeJupyterKernelCrash'>here</a> for more info. View Jupyter <a href='command:jupyter.viewOutput'>log</a> for further details."
     ]
    }
   ],
   "source": [
    "!ls *.json"
   ]
  },
  {
   "cell_type": "code",
   "execution_count": null,
   "id": "beneficial-silicon",
   "metadata": {},
   "outputs": [],
   "source": []
  }
 ],
 "metadata": {
  "kernelspec": {
   "display_name": "pytorch",
   "language": "python",
   "name": "python3"
  },
  "language_info": {
   "codemirror_mode": {
    "name": "ipython",
    "version": 3
   },
   "file_extension": ".py",
   "mimetype": "text/x-python",
   "name": "python",
   "nbconvert_exporter": "python",
   "pygments_lexer": "ipython3",
   "version": "3.9.13"
  },
  "vscode": {
   "interpreter": {
    "hash": "2d58e898dde0263bc564c6968b04150abacfd33eed9b19aaa8e45c040360e146"
   }
  }
 },
 "nbformat": 4,
 "nbformat_minor": 5
}
