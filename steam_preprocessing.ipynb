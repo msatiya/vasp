{
 "cells": [
  {
   "cell_type": "markdown",
   "id": "mexican-circus",
   "metadata": {},
   "source": [
    "Run cells bellow to download and preprocess the **Steam-200K** dataset.\n",
    "\n",
    "Estimated time is around 45 minutes."
   ]
  },
  {
   "cell_type": "code",
   "execution_count": 1,
   "id": "sonic-burning",
   "metadata": {},
   "outputs": [
    {
     "name": "stdout",
     "output_type": "stream",
     "text": [
      "Archive:  /home/ubuntu/vasp/Datasets/steam-200k.zip\n",
      "   creating: preprocessed_100/\n",
      "  inflating: preprocessed_100/iId2itemName.json  \n",
      "  inflating: preprocessed_100/validation_te.csv  \n",
      "  inflating: preprocessed_100/validation_tr.csv  \n",
      "  inflating: preprocessed_100/unique_iId.txt  \n",
      "  inflating: preprocessed_100/train_te.csv  \n",
      "  inflating: preprocessed_100/train_tr.csv  \n",
      "  inflating: preprocessed_100/test_tr.csv  \n",
      "  inflating: preprocessed_100/test_te.csv  \n"
     ]
    }
   ],
   "source": [
    "#!unzip /home/ubuntu/vasp/Datasets/steam-200k.zip"
   ]
  },
  {
   "cell_type": "code",
   "execution_count": 3,
   "id": "pointed-presentation",
   "metadata": {},
   "outputs": [],
   "source": [
    "import pandas as pd\n",
    "import os"
   ]
  },
  {
   "cell_type": "markdown",
   "id": "desperate-oriental",
   "metadata": {},
   "source": [
    "All Items"
   ]
  },
  {
   "cell_type": "code",
   "execution_count": 26,
   "id": "coupled-romania",
   "metadata": {},
   "outputs": [],
   "source": [
    "ds_path = \"/home/ubuntu/vasp/Datasets/steam-200k/preprocessed_100\"\n",
    "ds_path_out = \"/home/ubuntu/vasp/Datasets/steam-200k/preprocessed_vasp\""
   ]
  },
  {
   "cell_type": "code",
   "execution_count": 8,
   "id": "b872dba4",
   "metadata": {},
   "outputs": [
    {
     "name": "stdout",
     "output_type": "stream",
     "text": [
      "   uId  iId                                        title\n",
      "0  543  110                               Counter-Strike\n",
      "1  543  532                    Call of Duty World at War\n",
      "2  543  325                             Total War ATTILA\n",
      "3  543  183  Call of Duty Modern Warfare 2 - Multiplayer\n",
      "4  543  167                Call of Duty Modern Warfare 2\n",
      "23203\n",
      "    uId  iId                       title\n",
      "0  1420   91             Team Fortress 2\n",
      "1  1420   10  Sid Meier's Civilization V\n",
      "2  1420    0  The Elder Scrolls V Skyrim\n",
      "3  1420   23                   Far Cry 3\n",
      "4  1420    3           Fallout New Vegas\n",
      "2999\n",
      "    uId  iId                                        title\n",
      "0  1622  112                Counter-Strike Condition Zero\n",
      "1  1622  183  Call of Duty Modern Warfare 2 - Multiplayer\n",
      "2  1622  110                               Counter-Strike\n",
      "3  1622  114                       Call of Duty Black Ops\n",
      "4  1622   77                      Half-Life 2 Episode Two\n",
      "2718\n",
      "   uId  iId                                        title\n",
      "0  543  110                               Counter-Strike\n",
      "1  543  532                    Call of Duty World at War\n",
      "2  543  325                             Total War ATTILA\n",
      "3  543  183  Call of Duty Modern Warfare 2 - Multiplayer\n",
      "4  543  167                Call of Duty Modern Warfare 2\n",
      "28920\n"
     ]
    }
   ],
   "source": [
    "temp_tr = pd.read_csv(os.path.join(ds_path, 'train_tr.csv'))\n",
    "temp_te = pd.read_csv(os.path.join(ds_path, 'train_te.csv'))\n",
    "train = pd.concat([temp_tr, temp_te])\n",
    "print(train.head())\n",
    "print(len(train))\n",
    "\n",
    "temp_tr = pd.read_csv(os.path.join(ds_path, 'validation_tr.csv'))\n",
    "temp_te = pd.read_csv(os.path.join(ds_path, 'validation_te.csv'))\n",
    "val = pd.concat([temp_tr, temp_te])\n",
    "print(val.head())\n",
    "print(len(val))\n",
    "\n",
    "temp_tr = pd.read_csv(os.path.join(ds_path, 'test_tr.csv'))\n",
    "temp_te = pd.read_csv(os.path.join(ds_path, 'test_te.csv'))\n",
    "test = pd.concat([temp_tr, temp_te])\n",
    "print(test.head())\n",
    "print(len(test))\n",
    "\n",
    "full = pd.concat([train, val, test])\n",
    "print(full.head())\n",
    "print(len(full))"
   ]
  },
  {
   "cell_type": "code",
   "execution_count": 27,
   "id": "81507d8d",
   "metadata": {},
   "outputs": [
    {
     "data": {
      "text/html": [
       "<div>\n",
       "<style scoped>\n",
       "    .dataframe tbody tr th:only-of-type {\n",
       "        vertical-align: middle;\n",
       "    }\n",
       "\n",
       "    .dataframe tbody tr th {\n",
       "        vertical-align: top;\n",
       "    }\n",
       "\n",
       "    .dataframe thead th {\n",
       "        text-align: right;\n",
       "    }\n",
       "</style>\n",
       "<table border=\"1\" class=\"dataframe\">\n",
       "  <thead>\n",
       "    <tr style=\"text-align: right;\">\n",
       "      <th></th>\n",
       "      <th>iId</th>\n",
       "    </tr>\n",
       "  </thead>\n",
       "  <tbody>\n",
       "    <tr>\n",
       "      <th>0</th>\n",
       "      <td>0</td>\n",
       "    </tr>\n",
       "    <tr>\n",
       "      <th>1</th>\n",
       "      <td>1</td>\n",
       "    </tr>\n",
       "    <tr>\n",
       "      <th>2</th>\n",
       "      <td>2</td>\n",
       "    </tr>\n",
       "    <tr>\n",
       "      <th>3</th>\n",
       "      <td>3</td>\n",
       "    </tr>\n",
       "    <tr>\n",
       "      <th>4</th>\n",
       "      <td>4</td>\n",
       "    </tr>\n",
       "    <tr>\n",
       "      <th>...</th>\n",
       "      <td>...</td>\n",
       "    </tr>\n",
       "    <tr>\n",
       "      <th>2114</th>\n",
       "      <td>5131</td>\n",
       "    </tr>\n",
       "    <tr>\n",
       "      <th>2115</th>\n",
       "      <td>2971</td>\n",
       "    </tr>\n",
       "    <tr>\n",
       "      <th>2116</th>\n",
       "      <td>5152</td>\n",
       "    </tr>\n",
       "    <tr>\n",
       "      <th>2117</th>\n",
       "      <td>5065</td>\n",
       "    </tr>\n",
       "    <tr>\n",
       "      <th>2118</th>\n",
       "      <td>2132</td>\n",
       "    </tr>\n",
       "  </tbody>\n",
       "</table>\n",
       "<p>2119 rows × 1 columns</p>\n",
       "</div>"
      ],
      "text/plain": [
       "       iId\n",
       "0        0\n",
       "1        1\n",
       "2        2\n",
       "3        3\n",
       "4        4\n",
       "...    ...\n",
       "2114  5131\n",
       "2115  2971\n",
       "2116  5152\n",
       "2117  5065\n",
       "2118  2132\n",
       "\n",
       "[2119 rows x 1 columns]"
      ]
     },
     "execution_count": 27,
     "metadata": {},
     "output_type": "execute_result"
    }
   ],
   "source": [
    "items = pd.read_csv(os.path.join(ds_path, 'unique_iId.txt'))\n",
    "items.to_json(os.path.join(ds_path_out, 'items.json'))\n",
    "items"
   ]
  },
  {
   "cell_type": "code",
   "execution_count": 23,
   "id": "47b3779e",
   "metadata": {},
   "outputs": [
    {
     "data": {
      "text/plain": [
       "array([ True, False])"
      ]
     },
     "execution_count": 23,
     "metadata": {},
     "output_type": "execute_result"
    }
   ],
   "source": [
    "result = train['iId'].isin(test['iId'])\n",
    "\n",
    "result.unique()"
   ]
  },
  {
   "cell_type": "markdown",
   "id": "decimal-premium",
   "metadata": {},
   "source": [
    "Purchases and grouped purchases."
   ]
  },
  {
   "cell_type": "code",
   "execution_count": 40,
   "id": "specific-welding",
   "metadata": {},
   "outputs": [
    {
     "name": "stdout",
     "output_type": "stream",
     "text": [
      "   userId                                            itemids\n",
      "0     543  110,532,325,183,167,89,186,114,272,34,56,115,2...\n",
      "12    797                            0,119,23,4,2086,218,276\n",
      "18    591                             89,88,243,167,4,49,543\n",
      "24    105  270,115,505,408,183,888,898,34,548,1931,4,232,...\n",
      "60    953                        88,10,48,110,81,57,1597,246\n",
      "  userId                                            itemids\n",
      "0    543  110,532,325,183,167,89,186,114,272,34,56,115,2...\n",
      "1    797                            0,119,23,4,2086,218,276\n",
      "2    591                             89,88,243,167,4,49,543\n",
      "3    105  270,115,505,408,183,888,898,34,548,1931,4,232,...\n",
      "4    953                        88,10,48,110,81,57,1597,246\n"
     ]
    }
   ],
   "source": [
    "interactions = full\n",
    "interactions['iId'] = interactions['iId'].apply(str)\n",
    "interactions['userId'] = interactions['uId'].apply(str)\n",
    "#interactions.to_json(os.path.join(ds_path_out, 'purchases.json'))\n",
    "interactions['itemids'] = interactions[['userId','iId']].groupby(['userId'])['iId'].transform(lambda x: ','.join(x))\n",
    "iii = interactions[['userId','itemids']].drop_duplicates()\n",
    "print(iii.head())\n",
    "iii.reset_index(drop=True, inplace=True)\n",
    "iii.to_json(os.path.join(ds_path_out, 'purchases_txt.json'))\n",
    "print(iii.head())"
   ]
  },
  {
   "cell_type": "markdown",
   "id": "optimum-source",
   "metadata": {},
   "source": [
    "Users."
   ]
  },
  {
   "cell_type": "code",
   "execution_count": 42,
   "id": "dramatic-optimum",
   "metadata": {},
   "outputs": [
    {
     "name": "stdout",
     "output_type": "stream",
     "text": [
      "  userId\n",
      "0    543\n",
      "1    797\n",
      "2    591\n",
      "3    105\n",
      "4    953\n"
     ]
    }
   ],
   "source": [
    "iii['userId'].to_frame().to_json(os.path.join(ds_path_out, 'users.json'))\n",
    "print(iii['userId'].to_frame().head())"
   ]
  },
  {
   "cell_type": "markdown",
   "id": "previous-citizenship",
   "metadata": {},
   "source": [
    "Items"
   ]
  },
  {
   "cell_type": "code",
   "execution_count": 16,
   "id": "utility-aurora",
   "metadata": {},
   "outputs": [
    {
     "data": {
      "text/html": [
       "<div>\n",
       "<style scoped>\n",
       "    .dataframe tbody tr th:only-of-type {\n",
       "        vertical-align: middle;\n",
       "    }\n",
       "\n",
       "    .dataframe tbody tr th {\n",
       "        vertical-align: top;\n",
       "    }\n",
       "\n",
       "    .dataframe thead th {\n",
       "        text-align: right;\n",
       "    }\n",
       "</style>\n",
       "<table border=\"1\" class=\"dataframe\">\n",
       "  <thead>\n",
       "    <tr style=\"text-align: right;\">\n",
       "      <th></th>\n",
       "      <th>itemid</th>\n",
       "      <th>product_name</th>\n",
       "      <th>genres</th>\n",
       "    </tr>\n",
       "  </thead>\n",
       "  <tbody>\n",
       "    <tr>\n",
       "      <th>0</th>\n",
       "      <td>1</td>\n",
       "      <td>Toy Story (1995)</td>\n",
       "      <td>Adventure|Animation|Children|Comedy|Fantasy</td>\n",
       "    </tr>\n",
       "    <tr>\n",
       "      <th>1</th>\n",
       "      <td>2</td>\n",
       "      <td>Jumanji (1995)</td>\n",
       "      <td>Adventure|Children|Fantasy</td>\n",
       "    </tr>\n",
       "    <tr>\n",
       "      <th>2</th>\n",
       "      <td>3</td>\n",
       "      <td>Grumpier Old Men (1995)</td>\n",
       "      <td>Comedy|Romance</td>\n",
       "    </tr>\n",
       "    <tr>\n",
       "      <th>3</th>\n",
       "      <td>4</td>\n",
       "      <td>Waiting to Exhale (1995)</td>\n",
       "      <td>Comedy|Drama|Romance</td>\n",
       "    </tr>\n",
       "    <tr>\n",
       "      <th>4</th>\n",
       "      <td>5</td>\n",
       "      <td>Father of the Bride Part II (1995)</td>\n",
       "      <td>Comedy</td>\n",
       "    </tr>\n",
       "    <tr>\n",
       "      <th>...</th>\n",
       "      <td>...</td>\n",
       "      <td>...</td>\n",
       "      <td>...</td>\n",
       "    </tr>\n",
       "    <tr>\n",
       "      <th>27271</th>\n",
       "      <td>131250</td>\n",
       "      <td>No More School (2000)</td>\n",
       "      <td>Comedy</td>\n",
       "    </tr>\n",
       "    <tr>\n",
       "      <th>27272</th>\n",
       "      <td>131252</td>\n",
       "      <td>Forklift Driver Klaus: The First Day on the Jo...</td>\n",
       "      <td>Comedy|Horror</td>\n",
       "    </tr>\n",
       "    <tr>\n",
       "      <th>27273</th>\n",
       "      <td>131254</td>\n",
       "      <td>Kein Bund für's Leben (2007)</td>\n",
       "      <td>Comedy</td>\n",
       "    </tr>\n",
       "    <tr>\n",
       "      <th>27274</th>\n",
       "      <td>131256</td>\n",
       "      <td>Feuer, Eis &amp; Dosenbier (2002)</td>\n",
       "      <td>Comedy</td>\n",
       "    </tr>\n",
       "    <tr>\n",
       "      <th>27277</th>\n",
       "      <td>131262</td>\n",
       "      <td>Innocence (2014)</td>\n",
       "      <td>Adventure|Fantasy|Horror</td>\n",
       "    </tr>\n",
       "  </tbody>\n",
       "</table>\n",
       "<p>20720 rows × 3 columns</p>\n",
       "</div>"
      ],
      "text/plain": [
       "       itemid                                       product_name  \\\n",
       "0           1                                   Toy Story (1995)   \n",
       "1           2                                     Jumanji (1995)   \n",
       "2           3                            Grumpier Old Men (1995)   \n",
       "3           4                           Waiting to Exhale (1995)   \n",
       "4           5                 Father of the Bride Part II (1995)   \n",
       "...       ...                                                ...   \n",
       "27271  131250                              No More School (2000)   \n",
       "27272  131252  Forklift Driver Klaus: The First Day on the Jo...   \n",
       "27273  131254                       Kein Bund für's Leben (2007)   \n",
       "27274  131256                      Feuer, Eis & Dosenbier (2002)   \n",
       "27277  131262                                   Innocence (2014)   \n",
       "\n",
       "                                            genres  \n",
       "0      Adventure|Animation|Children|Comedy|Fantasy  \n",
       "1                       Adventure|Children|Fantasy  \n",
       "2                                   Comedy|Romance  \n",
       "3                             Comedy|Drama|Romance  \n",
       "4                                           Comedy  \n",
       "...                                            ...  \n",
       "27271                                       Comedy  \n",
       "27272                                Comedy|Horror  \n",
       "27273                                       Comedy  \n",
       "27274                                       Comedy  \n",
       "27277                     Adventure|Fantasy|Horror  \n",
       "\n",
       "[20720 rows x 3 columns]"
      ]
     },
     "execution_count": 16,
     "metadata": {},
     "output_type": "execute_result"
    }
   ],
   "source": [
    "#items[items.itemid.isin(purchases_item_count_pu5.itemid)].to_json(\"items_pu5.json\")\n",
    "items[items.itemid.isin(purchases_item_count_pu5.itemid)]"
   ]
  },
  {
   "cell_type": "markdown",
   "id": "sitting-saying",
   "metadata": {},
   "source": [
    "Items sorted by number of interactions"
   ]
  },
  {
   "cell_type": "code",
   "execution_count": 17,
   "id": "suited-cabin",
   "metadata": {},
   "outputs": [
    {
     "data": {
      "text/html": [
       "<div>\n",
       "<style scoped>\n",
       "    .dataframe tbody tr th:only-of-type {\n",
       "        vertical-align: middle;\n",
       "    }\n",
       "\n",
       "    .dataframe tbody tr th {\n",
       "        vertical-align: top;\n",
       "    }\n",
       "\n",
       "    .dataframe thead th {\n",
       "        text-align: right;\n",
       "    }\n",
       "</style>\n",
       "<table border=\"1\" class=\"dataframe\">\n",
       "  <thead>\n",
       "    <tr style=\"text-align: right;\">\n",
       "      <th></th>\n",
       "      <th>itemid</th>\n",
       "      <th>nr_of_purchases</th>\n",
       "    </tr>\n",
       "  </thead>\n",
       "  <tbody>\n",
       "    <tr>\n",
       "      <th>6620</th>\n",
       "      <td>318</td>\n",
       "      <td>55705</td>\n",
       "    </tr>\n",
       "    <tr>\n",
       "      <th>6186</th>\n",
       "      <td>296</td>\n",
       "      <td>52265</td>\n",
       "    </tr>\n",
       "    <tr>\n",
       "      <th>12160</th>\n",
       "      <td>593</td>\n",
       "      <td>50061</td>\n",
       "    </tr>\n",
       "    <tr>\n",
       "      <th>7545</th>\n",
       "      <td>356</td>\n",
       "      <td>47302</td>\n",
       "    </tr>\n",
       "    <tr>\n",
       "      <th>4894</th>\n",
       "      <td>260</td>\n",
       "      <td>42578</td>\n",
       "    </tr>\n",
       "    <tr>\n",
       "      <th>...</th>\n",
       "      <td>...</td>\n",
       "      <td>...</td>\n",
       "    </tr>\n",
       "    <tr>\n",
       "      <th>3318</th>\n",
       "      <td>131050</td>\n",
       "      <td>1</td>\n",
       "    </tr>\n",
       "    <tr>\n",
       "      <th>3317</th>\n",
       "      <td>131027</td>\n",
       "      <td>1</td>\n",
       "    </tr>\n",
       "    <tr>\n",
       "      <th>3316</th>\n",
       "      <td>131023</td>\n",
       "      <td>1</td>\n",
       "    </tr>\n",
       "    <tr>\n",
       "      <th>3313</th>\n",
       "      <td>130996</td>\n",
       "      <td>1</td>\n",
       "    </tr>\n",
       "    <tr>\n",
       "      <th>20719</th>\n",
       "      <td>99999</td>\n",
       "      <td>1</td>\n",
       "    </tr>\n",
       "  </tbody>\n",
       "</table>\n",
       "<p>20720 rows × 2 columns</p>\n",
       "</div>"
      ],
      "text/plain": [
       "       itemid  nr_of_purchases\n",
       "6620      318            55705\n",
       "6186      296            52265\n",
       "12160     593            50061\n",
       "7545      356            47302\n",
       "4894      260            42578\n",
       "...       ...              ...\n",
       "3318   131050                1\n",
       "3317   131027                1\n",
       "3316   131023                1\n",
       "3313   130996                1\n",
       "20719   99999                1\n",
       "\n",
       "[20720 rows x 2 columns]"
      ]
     },
     "execution_count": 17,
     "metadata": {},
     "output_type": "execute_result"
    }
   ],
   "source": [
    "#purchases_item_count_pu5.to_json(\"items_sorted_pu5.json\")\n",
    "purchases_item_count_pu5"
   ]
  },
  {
   "cell_type": "markdown",
   "id": "attached-center",
   "metadata": {},
   "source": [
    "Users sorted by number of interactions"
   ]
  },
  {
   "cell_type": "code",
   "execution_count": 18,
   "id": "included-george",
   "metadata": {},
   "outputs": [
    {
     "data": {
      "text/html": [
       "<div>\n",
       "<style scoped>\n",
       "    .dataframe tbody tr th:only-of-type {\n",
       "        vertical-align: middle;\n",
       "    }\n",
       "\n",
       "    .dataframe tbody tr th {\n",
       "        vertical-align: top;\n",
       "    }\n",
       "\n",
       "    .dataframe thead th {\n",
       "        text-align: right;\n",
       "    }\n",
       "</style>\n",
       "<table border=\"1\" class=\"dataframe\">\n",
       "  <thead>\n",
       "    <tr style=\"text-align: right;\">\n",
       "      <th></th>\n",
       "      <th>userid</th>\n",
       "      <th>nr_of_purchases</th>\n",
       "    </tr>\n",
       "  </thead>\n",
       "  <tbody>\n",
       "    <tr>\n",
       "      <th>28626</th>\n",
       "      <td>125794</td>\n",
       "      <td>3177</td>\n",
       "    </tr>\n",
       "    <tr>\n",
       "      <th>118782</th>\n",
       "      <td>82418</td>\n",
       "      <td>2655</td>\n",
       "    </tr>\n",
       "    <tr>\n",
       "      <th>120595</th>\n",
       "      <td>8405</td>\n",
       "      <td>2503</td>\n",
       "    </tr>\n",
       "    <tr>\n",
       "      <th>20206</th>\n",
       "      <td>118205</td>\n",
       "      <td>2377</td>\n",
       "    </tr>\n",
       "    <tr>\n",
       "      <th>35395</th>\n",
       "      <td>131894</td>\n",
       "      <td>2349</td>\n",
       "    </tr>\n",
       "    <tr>\n",
       "      <th>...</th>\n",
       "      <td>...</td>\n",
       "      <td>...</td>\n",
       "    </tr>\n",
       "    <tr>\n",
       "      <th>4572</th>\n",
       "      <td>104116</td>\n",
       "      <td>5</td>\n",
       "    </tr>\n",
       "    <tr>\n",
       "      <th>28224</th>\n",
       "      <td>125431</td>\n",
       "      <td>5</td>\n",
       "    </tr>\n",
       "    <tr>\n",
       "      <th>11086</th>\n",
       "      <td>109989</td>\n",
       "      <td>5</td>\n",
       "    </tr>\n",
       "    <tr>\n",
       "      <th>67106</th>\n",
       "      <td>3584</td>\n",
       "      <td>5</td>\n",
       "    </tr>\n",
       "    <tr>\n",
       "      <th>36502</th>\n",
       "      <td>132891</td>\n",
       "      <td>5</td>\n",
       "    </tr>\n",
       "  </tbody>\n",
       "</table>\n",
       "<p>136677 rows × 2 columns</p>\n",
       "</div>"
      ],
      "text/plain": [
       "        userid  nr_of_purchases\n",
       "28626   125794             3177\n",
       "118782   82418             2655\n",
       "120595    8405             2503\n",
       "20206   118205             2377\n",
       "35395   131894             2349\n",
       "...        ...              ...\n",
       "4572    104116                5\n",
       "28224   125431                5\n",
       "11086   109989                5\n",
       "67106     3584                5\n",
       "36502   132891                5\n",
       "\n",
       "[136677 rows x 2 columns]"
      ]
     },
     "execution_count": 18,
     "metadata": {},
     "output_type": "execute_result"
    }
   ],
   "source": [
    "#pu5.to_json(\"users_sorted_pu5.json\")\n",
    "pu5"
   ]
  },
  {
   "cell_type": "markdown",
   "id": "growing-closer",
   "metadata": {},
   "source": [
    "Create train, val and test split."
   ]
  },
  {
   "cell_type": "code",
   "execution_count": 19,
   "id": "antique-surfing",
   "metadata": {},
   "outputs": [
    {
     "name": "stdout",
     "output_type": "stream",
     "text": [
      "          userid\n",
      "9483226    65567\n",
      "18812883  130320\n",
      "1125581     7677\n",
      "5262991    36081\n",
      "17249182  119275\n",
      "          userid\n",
      "15163263  104804\n",
      "13123091   90664\n",
      "11207540   77425\n",
      "9316001    64428\n",
      "13769119   95146\n",
      "          userid\n",
      "9141029    63177\n",
      "17703308  122423\n",
      "5668357    39001\n",
      "1562218    10557\n",
      "2448694    16563\n"
     ]
    },
    {
     "data": {
      "text/plain": [
       "(116677, 10000, 10000)"
      ]
     },
     "execution_count": 19,
     "metadata": {},
     "output_type": "execute_result"
    }
   ],
   "source": [
    "users = pd.read_json('users_pu5.json')\n",
    "shuffled_users = users.sample(frac=1., random_state=42)\n",
    "test_users = shuffled_users.iloc[:10000]\n",
    "val_users = shuffled_users.iloc[10000:20000]\n",
    "train_users = shuffled_users.iloc[20000:]\n",
    "\n",
    "#test_users.to_json(\"test_users.json\")\n",
    "print(test_users.head())\n",
    "#val_users.to_json(\"val_users.json\")\n",
    "print(val_users.head())\n",
    "#train_users.to_json(\"train_users.json\") \n",
    "print(train_users.head())\n",
    "\n",
    "len(train_users),len(val_users),len(test_users)"
   ]
  },
  {
   "cell_type": "code",
   "execution_count": 24,
   "id": "9a3f3846",
   "metadata": {},
   "outputs": [
    {
     "data": {
      "text/html": [
       "<div>\n",
       "<style scoped>\n",
       "    .dataframe tbody tr th:only-of-type {\n",
       "        vertical-align: middle;\n",
       "    }\n",
       "\n",
       "    .dataframe tbody tr th {\n",
       "        vertical-align: top;\n",
       "    }\n",
       "\n",
       "    .dataframe thead th {\n",
       "        text-align: right;\n",
       "    }\n",
       "</style>\n",
       "<table border=\"1\" class=\"dataframe\">\n",
       "  <thead>\n",
       "    <tr style=\"text-align: right;\">\n",
       "      <th></th>\n",
       "      <th>userid</th>\n",
       "    </tr>\n",
       "  </thead>\n",
       "  <tbody>\n",
       "    <tr>\n",
       "      <th>1192</th>\n",
       "      <td>11</td>\n",
       "    </tr>\n",
       "    <tr>\n",
       "      <th>1511</th>\n",
       "      <td>13</td>\n",
       "    </tr>\n",
       "    <tr>\n",
       "      <th>1770</th>\n",
       "      <td>14</td>\n",
       "    </tr>\n",
       "    <tr>\n",
       "      <th>5057</th>\n",
       "      <td>50</td>\n",
       "    </tr>\n",
       "    <tr>\n",
       "      <th>8149</th>\n",
       "      <td>73</td>\n",
       "    </tr>\n",
       "    <tr>\n",
       "      <th>...</th>\n",
       "      <td>...</td>\n",
       "    </tr>\n",
       "    <tr>\n",
       "      <th>19989248</th>\n",
       "      <td>138410</td>\n",
       "    </tr>\n",
       "    <tr>\n",
       "      <th>19991285</th>\n",
       "      <td>138422</td>\n",
       "    </tr>\n",
       "    <tr>\n",
       "      <th>19991592</th>\n",
       "      <td>138426</td>\n",
       "    </tr>\n",
       "    <tr>\n",
       "      <th>19994302</th>\n",
       "      <td>138449</td>\n",
       "    </tr>\n",
       "    <tr>\n",
       "      <th>19998759</th>\n",
       "      <td>138479</td>\n",
       "    </tr>\n",
       "  </tbody>\n",
       "</table>\n",
       "<p>10000 rows × 1 columns</p>\n",
       "</div>"
      ],
      "text/plain": [
       "          userid\n",
       "1192          11\n",
       "1511          13\n",
       "1770          14\n",
       "5057          50\n",
       "8149          73\n",
       "...          ...\n",
       "19989248  138410\n",
       "19991285  138422\n",
       "19991592  138426\n",
       "19994302  138449\n",
       "19998759  138479\n",
       "\n",
       "[10000 rows x 1 columns]"
      ]
     },
     "execution_count": 24,
     "metadata": {},
     "output_type": "execute_result"
    }
   ],
   "source": [
    "test_users.sort_index()"
   ]
  },
  {
   "cell_type": "markdown",
   "id": "together-cooler",
   "metadata": {},
   "source": [
    "List of generated json files with preprocessed data."
   ]
  },
  {
   "cell_type": "code",
   "execution_count": 20,
   "id": "naughty-aircraft",
   "metadata": {},
   "outputs": [
    {
     "name": "stdout",
     "output_type": "stream",
     "text": [
      "VASP_ML20_1_loss.json\t  purchases.json\t  train_users.json\n",
      "VASP_ML20_1_metrics.json  purchases_pu5.json\t  users_pu5.json\n",
      "items.json\t\t  purchases_txt.json\t  users_sorted_pu5.json\n",
      "items_pu5.json\t\t  purchases_txt_pu5.json  val_users.json\n",
      "items_sorted_pu5.json\t  test_users.json\n"
     ]
    }
   ],
   "source": [
    "!ls *.json"
   ]
  },
  {
   "cell_type": "code",
   "execution_count": 21,
   "id": "beneficial-silicon",
   "metadata": {},
   "outputs": [],
   "source": [
    "tu=pd.read_json('train_users.json')\n"
   ]
  },
  {
   "cell_type": "code",
   "execution_count": 22,
   "id": "4e672a9e",
   "metadata": {},
   "outputs": [
    {
     "data": {
      "text/html": [
       "<div>\n",
       "<style scoped>\n",
       "    .dataframe tbody tr th:only-of-type {\n",
       "        vertical-align: middle;\n",
       "    }\n",
       "\n",
       "    .dataframe tbody tr th {\n",
       "        vertical-align: top;\n",
       "    }\n",
       "\n",
       "    .dataframe thead th {\n",
       "        text-align: right;\n",
       "    }\n",
       "</style>\n",
       "<table border=\"1\" class=\"dataframe\">\n",
       "  <thead>\n",
       "    <tr style=\"text-align: right;\">\n",
       "      <th></th>\n",
       "      <th>userid</th>\n",
       "    </tr>\n",
       "  </thead>\n",
       "  <tbody>\n",
       "    <tr>\n",
       "      <th>10000069</th>\n",
       "      <td>69140</td>\n",
       "    </tr>\n",
       "    <tr>\n",
       "      <th>10000124</th>\n",
       "      <td>69141</td>\n",
       "    </tr>\n",
       "    <tr>\n",
       "      <th>10000172</th>\n",
       "      <td>69142</td>\n",
       "    </tr>\n",
       "    <tr>\n",
       "      <th>10000269</th>\n",
       "      <td>69143</td>\n",
       "    </tr>\n",
       "    <tr>\n",
       "      <th>10000322</th>\n",
       "      <td>69144</td>\n",
       "    </tr>\n",
       "    <tr>\n",
       "      <th>...</th>\n",
       "      <td>...</td>\n",
       "    </tr>\n",
       "    <tr>\n",
       "      <th>9999490</th>\n",
       "      <td>69133</td>\n",
       "    </tr>\n",
       "    <tr>\n",
       "      <th>9999604</th>\n",
       "      <td>69134</td>\n",
       "    </tr>\n",
       "    <tr>\n",
       "      <th>9999651</th>\n",
       "      <td>69135</td>\n",
       "    </tr>\n",
       "    <tr>\n",
       "      <th>9999705</th>\n",
       "      <td>69136</td>\n",
       "    </tr>\n",
       "    <tr>\n",
       "      <th>9999765</th>\n",
       "      <td>69137</td>\n",
       "    </tr>\n",
       "  </tbody>\n",
       "</table>\n",
       "<p>116677 rows × 1 columns</p>\n",
       "</div>"
      ],
      "text/plain": [
       "          userid\n",
       "10000069   69140\n",
       "10000124   69141\n",
       "10000172   69142\n",
       "10000269   69143\n",
       "10000322   69144\n",
       "...          ...\n",
       "9999490    69133\n",
       "9999604    69134\n",
       "9999651    69135\n",
       "9999705    69136\n",
       "9999765    69137\n",
       "\n",
       "[116677 rows x 1 columns]"
      ]
     },
     "execution_count": 22,
     "metadata": {},
     "output_type": "execute_result"
    }
   ],
   "source": [
    "tu"
   ]
  },
  {
   "cell_type": "code",
   "execution_count": null,
   "id": "56280edd",
   "metadata": {},
   "outputs": [],
   "source": []
  }
 ],
 "metadata": {
  "kernelspec": {
   "display_name": "Python 3",
   "language": "python",
   "name": "python3"
  },
  "language_info": {
   "codemirror_mode": {
    "name": "ipython",
    "version": 3
   },
   "file_extension": ".py",
   "mimetype": "text/x-python",
   "name": "python",
   "nbconvert_exporter": "python",
   "pygments_lexer": "ipython3",
   "version": "3.9.13"
  }
 },
 "nbformat": 4,
 "nbformat_minor": 5
}
