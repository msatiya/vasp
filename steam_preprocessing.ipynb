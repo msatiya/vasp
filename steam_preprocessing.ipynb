{
 "cells": [
  {
   "cell_type": "markdown",
   "id": "mexican-circus",
   "metadata": {},
   "source": [
    "Run cells bellow to download and preprocess the **Steam-200K** dataset.\n",
    "\n",
    "Estimated time is around 45 minutes."
   ]
  },
  {
   "cell_type": "code",
   "execution_count": 93,
   "id": "sonic-burning",
   "metadata": {},
   "outputs": [],
   "source": [
    "#!unzip /home/ubuntu/vasp/Datasets/steam-200k.zip"
   ]
  },
  {
   "cell_type": "code",
   "execution_count": 94,
   "id": "pointed-presentation",
   "metadata": {},
   "outputs": [],
   "source": [
    "import pandas as pd\n",
    "import os"
   ]
  },
  {
   "cell_type": "markdown",
   "id": "desperate-oriental",
   "metadata": {},
   "source": [
    "All Items"
   ]
  },
  {
   "cell_type": "code",
   "execution_count": 95,
   "id": "coupled-romania",
   "metadata": {},
   "outputs": [],
   "source": [
    "ds_path = \"/home/ubuntu/vasp/Datasets/steam-200k/preprocessed_100\"\n",
    "ds_path_out = \"/home/ubuntu/vasp/Datasets/steam-200k/preprocessed_vasp\""
   ]
  },
  {
   "cell_type": "code",
   "execution_count": 96,
   "id": "b872dba4",
   "metadata": {},
   "outputs": [
    {
     "name": "stdout",
     "output_type": "stream",
     "text": [
      "   userid  itemid                                        title\n",
      "0     543     110                               Counter-Strike\n",
      "1     543     532                    Call of Duty World at War\n",
      "2     543     325                             Total War ATTILA\n",
      "3     543     183  Call of Duty Modern Warfare 2 - Multiplayer\n",
      "4     543     167                Call of Duty Modern Warfare 2\n",
      "23203\n",
      "   userid  itemid                       title\n",
      "0    1420      91             Team Fortress 2\n",
      "1    1420      10  Sid Meier's Civilization V\n",
      "2    1420       0  The Elder Scrolls V Skyrim\n",
      "3    1420      23                   Far Cry 3\n",
      "4    1420       3           Fallout New Vegas\n",
      "2999\n",
      "   userid  itemid                                        title\n",
      "0    1622     112                Counter-Strike Condition Zero\n",
      "1    1622     183  Call of Duty Modern Warfare 2 - Multiplayer\n",
      "2    1622     110                               Counter-Strike\n",
      "3    1622     114                       Call of Duty Black Ops\n",
      "4    1622      77                      Half-Life 2 Episode Two\n",
      "2718\n",
      "   userid  itemid                                        title\n",
      "0     543     110                               Counter-Strike\n",
      "1     543     532                    Call of Duty World at War\n",
      "2     543     325                             Total War ATTILA\n",
      "3     543     183  Call of Duty Modern Warfare 2 - Multiplayer\n",
      "4     543     167                Call of Duty Modern Warfare 2\n",
      "28920\n"
     ]
    }
   ],
   "source": [
    "temp_tr = pd.read_csv(os.path.join(ds_path, 'train_tr.csv'))\n",
    "temp_te = pd.read_csv(os.path.join(ds_path, 'train_te.csv'))\n",
    "train = pd.concat([temp_tr, temp_te])\n",
    "train.rename({'uId': 'userid', 'iId': 'itemid'}, axis=1, inplace=True)\n",
    "print(train.head())\n",
    "print(len(train))\n",
    "\n",
    "temp_tr = pd.read_csv(os.path.join(ds_path, 'validation_tr.csv'))\n",
    "temp_te = pd.read_csv(os.path.join(ds_path, 'validation_te.csv'))\n",
    "val = pd.concat([temp_tr, temp_te])\n",
    "val.rename({'uId': 'userid', 'iId': 'itemid'}, axis=1, inplace=True)\n",
    "print(val.head())\n",
    "print(len(val))\n",
    "\n",
    "temp_tr = pd.read_csv(os.path.join(ds_path, 'test_tr.csv'))\n",
    "temp_te = pd.read_csv(os.path.join(ds_path, 'test_te.csv'))\n",
    "test = pd.concat([temp_tr, temp_te])\n",
    "test.rename({'uId': 'userid', 'iId': 'itemid'}, axis=1, inplace=True)\n",
    "print(test.head())\n",
    "print(len(test))\n",
    "\n",
    "full = pd.concat([train, val, test])\n",
    "print(full.head())\n",
    "print(len(full))"
   ]
  },
  {
   "cell_type": "code",
   "execution_count": 97,
   "id": "81507d8d",
   "metadata": {},
   "outputs": [
    {
     "data": {
      "text/html": [
       "<div>\n",
       "<style scoped>\n",
       "    .dataframe tbody tr th:only-of-type {\n",
       "        vertical-align: middle;\n",
       "    }\n",
       "\n",
       "    .dataframe tbody tr th {\n",
       "        vertical-align: top;\n",
       "    }\n",
       "\n",
       "    .dataframe thead th {\n",
       "        text-align: right;\n",
       "    }\n",
       "</style>\n",
       "<table border=\"1\" class=\"dataframe\">\n",
       "  <thead>\n",
       "    <tr style=\"text-align: right;\">\n",
       "      <th></th>\n",
       "      <th>itemid</th>\n",
       "    </tr>\n",
       "  </thead>\n",
       "  <tbody>\n",
       "    <tr>\n",
       "      <th>0</th>\n",
       "      <td>0</td>\n",
       "    </tr>\n",
       "    <tr>\n",
       "      <th>1</th>\n",
       "      <td>1</td>\n",
       "    </tr>\n",
       "    <tr>\n",
       "      <th>2</th>\n",
       "      <td>2</td>\n",
       "    </tr>\n",
       "    <tr>\n",
       "      <th>3</th>\n",
       "      <td>3</td>\n",
       "    </tr>\n",
       "    <tr>\n",
       "      <th>4</th>\n",
       "      <td>4</td>\n",
       "    </tr>\n",
       "    <tr>\n",
       "      <th>...</th>\n",
       "      <td>...</td>\n",
       "    </tr>\n",
       "    <tr>\n",
       "      <th>2114</th>\n",
       "      <td>5131</td>\n",
       "    </tr>\n",
       "    <tr>\n",
       "      <th>2115</th>\n",
       "      <td>2971</td>\n",
       "    </tr>\n",
       "    <tr>\n",
       "      <th>2116</th>\n",
       "      <td>5152</td>\n",
       "    </tr>\n",
       "    <tr>\n",
       "      <th>2117</th>\n",
       "      <td>5065</td>\n",
       "    </tr>\n",
       "    <tr>\n",
       "      <th>2118</th>\n",
       "      <td>2132</td>\n",
       "    </tr>\n",
       "  </tbody>\n",
       "</table>\n",
       "<p>2119 rows × 1 columns</p>\n",
       "</div>"
      ],
      "text/plain": [
       "     itemid\n",
       "0         0\n",
       "1         1\n",
       "2         2\n",
       "3         3\n",
       "4         4\n",
       "...     ...\n",
       "2114   5131\n",
       "2115   2971\n",
       "2116   5152\n",
       "2117   5065\n",
       "2118   2132\n",
       "\n",
       "[2119 rows x 1 columns]"
      ]
     },
     "execution_count": 97,
     "metadata": {},
     "output_type": "execute_result"
    }
   ],
   "source": [
    "items = pd.read_csv(os.path.join(ds_path, 'unique_iId.txt'))\n",
    "items['iId']=items['iId'].apply(str)\n",
    "items.rename({'iId': 'itemid'}, axis=1, inplace=True)\n",
    "\n",
    "items.to_json(os.path.join(ds_path_out, 'items.json'))\n",
    "items"
   ]
  },
  {
   "cell_type": "code",
   "execution_count": 98,
   "id": "47b3779e",
   "metadata": {},
   "outputs": [
    {
     "data": {
      "text/plain": [
       "array([ True, False])"
      ]
     },
     "execution_count": 98,
     "metadata": {},
     "output_type": "execute_result"
    }
   ],
   "source": [
    "result = train['itemid'].isin(test['itemid'])\n",
    "\n",
    "result.unique()"
   ]
  },
  {
   "cell_type": "markdown",
   "id": "decimal-premium",
   "metadata": {},
   "source": [
    "Purchases and grouped purchases."
   ]
  },
  {
   "cell_type": "code",
   "execution_count": 100,
   "id": "specific-welding",
   "metadata": {},
   "outputs": [
    {
     "name": "stdout",
     "output_type": "stream",
     "text": [
      "  userid                                            itemids\n",
      "0    543  110,532,325,183,167,89,186,114,272,34,56,115,2...\n",
      "1    797                            0,119,23,4,2086,218,276\n",
      "2    591                             89,88,243,167,4,49,543\n",
      "3    105  270,115,505,408,183,888,898,34,548,1931,4,232,...\n",
      "4    953                        88,10,48,110,81,57,1597,246\n"
     ]
    }
   ],
   "source": [
    "interactions = full\n",
    "\n",
    "interactions['itemid'] = interactions['itemid'].apply(str)\n",
    "interactions['userid'] = interactions['userid'].apply(str)\n",
    "interactions.reset_index(drop=True, inplace=True)\n",
    "interactions.to_json(os.path.join(ds_path_out, 'purchases.json'))\n",
    "\n",
    "interactions['itemids'] = interactions[['userid','itemid']].groupby(['userid'])['itemid'].transform(lambda x: ','.join(x))\n",
    "iii = interactions[['userid','itemids']].drop_duplicates()\n",
    "iii.reset_index(drop=True, inplace=True)\n",
    "iii.to_json(os.path.join(ds_path_out, 'purchases_txt.json'))\n",
    "print(iii.head())"
   ]
  },
  {
   "cell_type": "markdown",
   "id": "1557d20d",
   "metadata": {},
   "source": [
    "Keep only users with 5 or more interactions.\n",
    "\n",
    "Purchases."
   ]
  },
  {
   "cell_type": "code",
   "execution_count": 101,
   "id": "493894aa",
   "metadata": {},
   "outputs": [
    {
     "name": "stdout",
     "output_type": "stream",
     "text": [
      "1656\n",
      "1656\n",
      "1656\n",
      "2119\n"
     ]
    }
   ],
   "source": [
    "purchases=pd.read_json(os.path.join(ds_path_out, 'purchases.json'))\n",
    "purchases['userid'] = purchases.userid.apply(str)\n",
    "purchases['itemid'] = purchases.itemid.apply(str)\n",
    "#purchases_item_counts = purchases[['uId','iId']]\n",
    "#purchases_user_counts = purchases[['uId','iId']]\n",
    "purchases_user_count = purchases.groupby(['userid']).size().to_frame('nr_of_purchases').reset_index()\n",
    "purchases_user_count = purchases_user_count.sort_values(by=['nr_of_purchases'], ascending=False)\n",
    "print(len(purchases_user_count))\n",
    "pu5=purchases_user_count#[purchases_user_count.nr_of_purchases>=5]\n",
    "print(len(purchases_user_count))\n",
    "print(len(pu5))\n",
    "\n",
    "purchases_pu5 = purchases[purchases.userid.isin(pu5.userid)]\n",
    "purchases_item_count_pu5 = purchases_pu5.groupby(['itemid']).size().to_frame('nr_of_purchases').reset_index()\n",
    "purchases_item_count_pu5 = purchases_item_count_pu5.sort_values(by=['nr_of_purchases'], ascending=False)\n",
    "print(len(purchases_item_count_pu5))\n",
    "\n",
    "#purchases_pu5.to_json(os.path.join(ds_path_out, 'purchases_pu5.json'))\n",
    "purchases.to_json(os.path.join(ds_path_out, 'purchases_pu5.json'))"
   ]
  },
  {
   "cell_type": "markdown",
   "id": "b6d210a7",
   "metadata": {},
   "source": [
    "Grouped purchases."
   ]
  },
  {
   "cell_type": "code",
   "execution_count": 102,
   "metadata": {},
   "outputs": [],
   "source": [
    "purchases_pu5['itemids'] = purchases_pu5[['userid','itemid']].groupby(['userid'])['itemid'].transform(lambda x: ','.join(x))\n",
    "iii = purchases_pu5[['userid','itemids']].drop_duplicates()\n",
    "iii['uId']=iii['userid'].apply(str)\n",
    "iii = iii[['userid','itemids']]\n",
    "iii.to_json(os.path.join(ds_path_out, 'purchases_txt_pu5.json'))"
   ]
  },
  {
   "cell_type": "markdown",
   "id": "optimum-source",
   "metadata": {},
   "source": [
    "Users."
   ]
  },
  {
   "cell_type": "code",
   "execution_count": 103,
   "id": "dramatic-optimum",
   "metadata": {},
   "outputs": [
    {
     "name": "stdout",
     "output_type": "stream",
     "text": [
      "   userid\n",
      "0     543\n",
      "12    797\n",
      "18    591\n",
      "24    105\n",
      "60    953\n"
     ]
    }
   ],
   "source": [
    "iii['userid'].to_frame().to_json(os.path.join(ds_path_out, 'users_pu5.json'))\n",
    "print(iii['userid'].to_frame().head())"
   ]
  },
  {
   "cell_type": "markdown",
   "id": "previous-citizenship",
   "metadata": {},
   "source": [
    "Items"
   ]
  },
  {
   "cell_type": "code",
   "execution_count": 104,
   "id": "utility-aurora",
   "metadata": {},
   "outputs": [],
   "source": [
    "#items[items.itemid.isin(purchases_item_count_pu5.itemid)].to_json(\"items_pu5.json\")\n",
    "items[items.itemid.isin(items.itemid)].to_json(os.path.join(ds_path_out, 'items_pu5.json'))"
   ]
  },
  {
   "cell_type": "markdown",
   "id": "sitting-saying",
   "metadata": {},
   "source": [
    "Items sorted by number of interactions"
   ]
  },
  {
   "cell_type": "code",
   "execution_count": 105,
   "id": "suited-cabin",
   "metadata": {},
   "outputs": [
    {
     "data": {
      "text/html": [
       "<div>\n",
       "<style scoped>\n",
       "    .dataframe tbody tr th:only-of-type {\n",
       "        vertical-align: middle;\n",
       "    }\n",
       "\n",
       "    .dataframe tbody tr th {\n",
       "        vertical-align: top;\n",
       "    }\n",
       "\n",
       "    .dataframe thead th {\n",
       "        text-align: right;\n",
       "    }\n",
       "</style>\n",
       "<table border=\"1\" class=\"dataframe\">\n",
       "  <thead>\n",
       "    <tr style=\"text-align: right;\">\n",
       "      <th></th>\n",
       "      <th>itemid</th>\n",
       "      <th>nr_of_purchases</th>\n",
       "    </tr>\n",
       "  </thead>\n",
       "  <tbody>\n",
       "    <tr>\n",
       "      <th>1986</th>\n",
       "      <td>88</td>\n",
       "      <td>679</td>\n",
       "    </tr>\n",
       "    <tr>\n",
       "      <th>2020</th>\n",
       "      <td>91</td>\n",
       "      <td>616</td>\n",
       "    </tr>\n",
       "    <tr>\n",
       "      <th>1975</th>\n",
       "      <td>87</td>\n",
       "      <td>462</td>\n",
       "    </tr>\n",
       "    <tr>\n",
       "      <th>1453</th>\n",
       "      <td>4</td>\n",
       "      <td>456</td>\n",
       "    </tr>\n",
       "    <tr>\n",
       "      <th>0</th>\n",
       "      <td>0</td>\n",
       "      <td>449</td>\n",
       "    </tr>\n",
       "    <tr>\n",
       "      <th>...</th>\n",
       "      <td>...</td>\n",
       "      <td>...</td>\n",
       "    </tr>\n",
       "    <tr>\n",
       "      <th>965</th>\n",
       "      <td>1867</td>\n",
       "      <td>1</td>\n",
       "    </tr>\n",
       "    <tr>\n",
       "      <th>970</th>\n",
       "      <td>1871</td>\n",
       "      <td>1</td>\n",
       "    </tr>\n",
       "    <tr>\n",
       "      <th>971</th>\n",
       "      <td>1872</td>\n",
       "      <td>1</td>\n",
       "    </tr>\n",
       "    <tr>\n",
       "      <th>972</th>\n",
       "      <td>1873</td>\n",
       "      <td>1</td>\n",
       "    </tr>\n",
       "    <tr>\n",
       "      <th>2118</th>\n",
       "      <td>999</td>\n",
       "      <td>1</td>\n",
       "    </tr>\n",
       "  </tbody>\n",
       "</table>\n",
       "<p>2119 rows × 2 columns</p>\n",
       "</div>"
      ],
      "text/plain": [
       "     itemid  nr_of_purchases\n",
       "1986     88              679\n",
       "2020     91              616\n",
       "1975     87              462\n",
       "1453      4              456\n",
       "0         0              449\n",
       "...     ...              ...\n",
       "965    1867                1\n",
       "970    1871                1\n",
       "971    1872                1\n",
       "972    1873                1\n",
       "2118    999                1\n",
       "\n",
       "[2119 rows x 2 columns]"
      ]
     },
     "execution_count": 105,
     "metadata": {},
     "output_type": "execute_result"
    }
   ],
   "source": [
    "purchases_item_count_pu5.to_json(os.path.join(ds_path_out, 'items_sorted_pu5.json'))\n",
    "purchases_item_count_pu5"
   ]
  },
  {
   "cell_type": "markdown",
   "id": "attached-center",
   "metadata": {},
   "source": [
    "Users sorted by number of interactions"
   ]
  },
  {
   "cell_type": "code",
   "execution_count": 106,
   "id": "included-george",
   "metadata": {},
   "outputs": [
    {
     "data": {
      "text/html": [
       "<div>\n",
       "<style scoped>\n",
       "    .dataframe tbody tr th:only-of-type {\n",
       "        vertical-align: middle;\n",
       "    }\n",
       "\n",
       "    .dataframe tbody tr th {\n",
       "        vertical-align: top;\n",
       "    }\n",
       "\n",
       "    .dataframe thead th {\n",
       "        text-align: right;\n",
       "    }\n",
       "</style>\n",
       "<table border=\"1\" class=\"dataframe\">\n",
       "  <thead>\n",
       "    <tr style=\"text-align: right;\">\n",
       "      <th></th>\n",
       "      <th>userid</th>\n",
       "      <th>nr_of_purchases</th>\n",
       "    </tr>\n",
       "  </thead>\n",
       "  <tbody>\n",
       "    <tr>\n",
       "      <th>347</th>\n",
       "      <td>131</td>\n",
       "      <td>216</td>\n",
       "    </tr>\n",
       "    <tr>\n",
       "      <th>281</th>\n",
       "      <td>1250</td>\n",
       "      <td>166</td>\n",
       "    </tr>\n",
       "    <tr>\n",
       "      <th>455</th>\n",
       "      <td>1407</td>\n",
       "      <td>141</td>\n",
       "    </tr>\n",
       "    <tr>\n",
       "      <th>763</th>\n",
       "      <td>195</td>\n",
       "      <td>140</td>\n",
       "    </tr>\n",
       "    <tr>\n",
       "      <th>1245</th>\n",
       "      <td>629</td>\n",
       "      <td>135</td>\n",
       "    </tr>\n",
       "    <tr>\n",
       "      <th>...</th>\n",
       "      <td>...</td>\n",
       "      <td>...</td>\n",
       "    </tr>\n",
       "    <tr>\n",
       "      <th>1335</th>\n",
       "      <td>71</td>\n",
       "      <td>5</td>\n",
       "    </tr>\n",
       "    <tr>\n",
       "      <th>540</th>\n",
       "      <td>1484</td>\n",
       "      <td>5</td>\n",
       "    </tr>\n",
       "    <tr>\n",
       "      <th>1332</th>\n",
       "      <td>707</td>\n",
       "      <td>5</td>\n",
       "    </tr>\n",
       "    <tr>\n",
       "      <th>544</th>\n",
       "      <td>1489</td>\n",
       "      <td>5</td>\n",
       "    </tr>\n",
       "    <tr>\n",
       "      <th>828</th>\n",
       "      <td>253</td>\n",
       "      <td>5</td>\n",
       "    </tr>\n",
       "  </tbody>\n",
       "</table>\n",
       "<p>1656 rows × 2 columns</p>\n",
       "</div>"
      ],
      "text/plain": [
       "     userid  nr_of_purchases\n",
       "347     131              216\n",
       "281    1250              166\n",
       "455    1407              141\n",
       "763     195              140\n",
       "1245    629              135\n",
       "...     ...              ...\n",
       "1335     71                5\n",
       "540    1484                5\n",
       "1332    707                5\n",
       "544    1489                5\n",
       "828     253                5\n",
       "\n",
       "[1656 rows x 2 columns]"
      ]
     },
     "execution_count": 106,
     "metadata": {},
     "output_type": "execute_result"
    }
   ],
   "source": [
    "pu5.to_json(os.path.join(ds_path_out, 'users_sorted_pu5.json'))\n",
    "pu5"
   ]
  },
  {
   "cell_type": "markdown",
   "id": "growing-closer",
   "metadata": {},
   "source": [
    "Create train, val and test split."
   ]
  },
  {
   "cell_type": "code",
   "execution_count": 107,
   "id": "antique-surfing",
   "metadata": {},
   "outputs": [
    {
     "name": "stdout",
     "output_type": "stream",
     "text": [
      "    userid\n",
      "0     1622\n",
      "6     1649\n",
      "15    1637\n",
      "24    1497\n",
      "36    1514\n",
      "     userid\n",
      "0      1420\n",
      "59     1399\n",
      "118    1395\n",
      "138    1369\n",
      "146    1397\n",
      "    userid\n",
      "0      543\n",
      "12     797\n",
      "18     591\n",
      "24     105\n",
      "60     953\n"
     ]
    },
    {
     "data": {
      "text/plain": [
       "(1328, 165, 163)"
      ]
     },
     "execution_count": 107,
     "metadata": {},
     "output_type": "execute_result"
    }
   ],
   "source": [
    "#users = pd.read_json('users_pu5.json')\n",
    "#shuffled_users = users.sample(frac=1., random_state=42)\n",
    "test_users = test['userid'].to_frame().drop_duplicates(subset=['userid'])\n",
    "val_users = val['userid'].to_frame().drop_duplicates(subset=['userid'])\n",
    "train_users = train['userid'].to_frame().drop_duplicates(subset=['userid'])\n",
    "\n",
    "test_users.to_json(os.path.join(ds_path_out, \"test_users.json\"))\n",
    "print(test_users.head())\n",
    "val_users.to_json(os.path.join(ds_path_out, \"val_users.json\"))\n",
    "print(val_users.head())\n",
    "train_users.to_json(os.path.join(ds_path_out, \"train_users.json\"))\n",
    "print(train_users.head())\n",
    "\n",
    "len(train_users),len(val_users),len(test_users)"
   ]
  },
  {
   "cell_type": "markdown",
   "id": "together-cooler",
   "metadata": {},
   "source": [
    "List of generated json files with preprocessed data."
   ]
  },
  {
   "cell_type": "code",
   "execution_count": 108,
   "id": "naughty-aircraft",
   "metadata": {},
   "outputs": [
    {
     "name": "stdout",
     "output_type": "stream",
     "text": [
      "/home/ubuntu/vasp/Datasets/steam-200k/preprocessed_vasp/items.json\n",
      "/home/ubuntu/vasp/Datasets/steam-200k/preprocessed_vasp/items_pu5.json\n",
      "/home/ubuntu/vasp/Datasets/steam-200k/preprocessed_vasp/items_sorted_pu5.json\n",
      "/home/ubuntu/vasp/Datasets/steam-200k/preprocessed_vasp/purchases.json\n",
      "/home/ubuntu/vasp/Datasets/steam-200k/preprocessed_vasp/purchases_pu5.json\n",
      "/home/ubuntu/vasp/Datasets/steam-200k/preprocessed_vasp/purchases_txt.json\n",
      "/home/ubuntu/vasp/Datasets/steam-200k/preprocessed_vasp/purchases_txt_pu5.json\n",
      "/home/ubuntu/vasp/Datasets/steam-200k/preprocessed_vasp/test_users.json\n",
      "/home/ubuntu/vasp/Datasets/steam-200k/preprocessed_vasp/train_users.json\n",
      "/home/ubuntu/vasp/Datasets/steam-200k/preprocessed_vasp/users.json\n",
      "/home/ubuntu/vasp/Datasets/steam-200k/preprocessed_vasp/users_pu5.json\n",
      "/home/ubuntu/vasp/Datasets/steam-200k/preprocessed_vasp/users_sorted_pu5.json\n",
      "/home/ubuntu/vasp/Datasets/steam-200k/preprocessed_vasp/val_users.json\n"
     ]
    }
   ],
   "source": [
    "!ls /home/ubuntu/vasp/Datasets/steam-200k/preprocessed_vasp/*.json"
   ]
  },
  {
   "cell_type": "code",
   "execution_count": null,
   "id": "56280edd",
   "metadata": {},
   "outputs": [],
   "source": []
  }
 ],
 "metadata": {
  "kernelspec": {
   "display_name": "pytorch",
   "language": "python",
   "name": "python3"
  },
  "language_info": {
   "codemirror_mode": {
    "name": "ipython",
    "version": 3
   },
   "file_extension": ".py",
   "mimetype": "text/x-python",
   "name": "python",
   "nbconvert_exporter": "python",
   "pygments_lexer": "ipython3",
   "version": "3.9.13"
  },
  "vscode": {
   "interpreter": {
    "hash": "2d58e898dde0263bc564c6968b04150abacfd33eed9b19aaa8e45c040360e146"
   }
  }
 },
 "nbformat": 4,
 "nbformat_minor": 5
}
