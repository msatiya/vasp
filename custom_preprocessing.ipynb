{
 "cells": [
  {
   "attachments": {},
   "cell_type": "markdown",
   "id": "mexican-circus",
   "metadata": {},
   "source": [
    "Run cells bellow to preprocess our **custom** datasets.\n",
    "\n",
    "Estimated time is around 45 minutes."
   ]
  },
  {
   "cell_type": "code",
   "execution_count": 1,
   "id": "pointed-presentation",
   "metadata": {},
   "outputs": [],
   "source": [
    "import pandas as pd\n",
    "import os\n",
    "from pathlib import Path"
   ]
  },
  {
   "cell_type": "markdown",
   "id": "desperate-oriental",
   "metadata": {},
   "source": [
    "All Items"
   ]
  },
  {
   "cell_type": "code",
   "execution_count": 2,
   "id": "coupled-romania",
   "metadata": {},
   "outputs": [],
   "source": [
    "ds_path = \"/home/ubuntu/vasp/Datasets/ml-20m/preprocessed_100\"\n",
    "ds_path_out = \"/home/ubuntu/vasp/Datasets/ml-20m/preprocessed_vasp\"\n",
    "\n",
    "# ds_path = \"/home/ubuntu/vasp/Datasets/netflix/preprocessed_100\"\n",
    "# ds_path_out = \"/home/ubuntu/vasp/Datasets/netflix/preprocessed_vasp\"\n",
    "\n",
    "# ds_path = \"/home/ubuntu/vasp/Datasets/steam-200k/preprocessed_100\"\n",
    "# ds_path_out = \"/home/ubuntu/vasp/Datasets/steam-200k/preprocessed_vasp\"\n",
    "\n",
    "Path(ds_path_out).mkdir(parents=True, exist_ok=True)"
   ]
  },
  {
   "cell_type": "code",
   "execution_count": 3,
   "id": "b872dba4",
   "metadata": {},
   "outputs": [
    {
     "name": "stdout",
     "output_type": "stream",
     "text": [
      "   userid  itemid                title\n",
      "0   65280       0     Grumpier Old Men\n",
      "1   65280       1   Mr. Holland's Opus\n",
      "2   65280       2  From Dusk Till Dawn\n",
      "3   65280       5  Legends of the Fall\n",
      "4   65280       7         Blade Runner\n",
      "8002786\n",
      "   userid  itemid                                              title\n",
      "0  116149     297  Interview with the Vampire: The Vampire Chroni...\n",
      "1  116149     621                             Léon: The Professional\n",
      "2  116149     301                                       Pulp Fiction\n",
      "3  116149       7                                       Blade Runner\n",
      "4  116149     205                                           Die Hard\n",
      "996114\n",
      "   userid  itemid          title\n",
      "0  134677     290      GoldenEye\n",
      "1  134677     178     The Client\n",
      "2  134677     212   Forrest Gump\n",
      "3  134677     183          Speed\n",
      "4  134677     723  Carlito's Way\n",
      "990897\n",
      "   userid  itemid                title\n",
      "0   65280       0     Grumpier Old Men\n",
      "1   65280       1   Mr. Holland's Opus\n",
      "2   65280       2  From Dusk Till Dawn\n",
      "3   65280       5  Legends of the Fall\n",
      "4   65280       7         Blade Runner\n",
      "9989797\n"
     ]
    }
   ],
   "source": [
    "temp_tr = pd.read_csv(os.path.join(ds_path, 'train_tr.csv'))\n",
    "temp_te = pd.read_csv(os.path.join(ds_path, 'train_te.csv'))\n",
    "train = pd.concat([temp_tr, temp_te])\n",
    "train.rename({'uId': 'userid', 'iId': 'itemid'}, axis=1, inplace=True)\n",
    "print(train.head())\n",
    "print(len(train))\n",
    "\n",
    "temp_tr = pd.read_csv(os.path.join(ds_path, 'validation_tr.csv'))\n",
    "temp_te = pd.read_csv(os.path.join(ds_path, 'validation_te.csv'))\n",
    "val = pd.concat([temp_tr, temp_te])\n",
    "val.rename({'uId': 'userid', 'iId': 'itemid'}, axis=1, inplace=True)\n",
    "print(val.head())\n",
    "print(len(val))\n",
    "\n",
    "temp_tr = pd.read_csv(os.path.join(ds_path, 'test_tr.csv'))\n",
    "temp_te = pd.read_csv(os.path.join(ds_path, 'test_te.csv'))\n",
    "test = pd.concat([temp_tr, temp_te])\n",
    "test.rename({'uId': 'userid', 'iId': 'itemid'}, axis=1, inplace=True)\n",
    "print(test.head())\n",
    "print(len(test))\n",
    "\n",
    "full = pd.concat([train, val, test])\n",
    "print(full.head())\n",
    "print(len(full))"
   ]
  },
  {
   "cell_type": "code",
   "execution_count": 4,
   "id": "81507d8d",
   "metadata": {},
   "outputs": [
    {
     "data": {
      "text/html": [
       "<div>\n",
       "<style scoped>\n",
       "    .dataframe tbody tr th:only-of-type {\n",
       "        vertical-align: middle;\n",
       "    }\n",
       "\n",
       "    .dataframe tbody tr th {\n",
       "        vertical-align: top;\n",
       "    }\n",
       "\n",
       "    .dataframe thead th {\n",
       "        text-align: right;\n",
       "    }\n",
       "</style>\n",
       "<table border=\"1\" class=\"dataframe\">\n",
       "  <thead>\n",
       "    <tr style=\"text-align: right;\">\n",
       "      <th></th>\n",
       "      <th>itemid</th>\n",
       "    </tr>\n",
       "  </thead>\n",
       "  <tbody>\n",
       "    <tr>\n",
       "      <th>0</th>\n",
       "      <td>3</td>\n",
       "    </tr>\n",
       "    <tr>\n",
       "      <th>1</th>\n",
       "      <td>62</td>\n",
       "    </tr>\n",
       "    <tr>\n",
       "      <th>2</th>\n",
       "      <td>70</td>\n",
       "    </tr>\n",
       "    <tr>\n",
       "      <th>3</th>\n",
       "      <td>110</td>\n",
       "    </tr>\n",
       "    <tr>\n",
       "      <th>4</th>\n",
       "      <td>260</td>\n",
       "    </tr>\n",
       "    <tr>\n",
       "      <th>...</th>\n",
       "      <td>...</td>\n",
       "    </tr>\n",
       "    <tr>\n",
       "      <th>19902</th>\n",
       "      <td>88993</td>\n",
       "    </tr>\n",
       "    <tr>\n",
       "      <th>19903</th>\n",
       "      <td>87392</td>\n",
       "    </tr>\n",
       "    <tr>\n",
       "      <th>19904</th>\n",
       "      <td>95615</td>\n",
       "    </tr>\n",
       "    <tr>\n",
       "      <th>19905</th>\n",
       "      <td>110167</td>\n",
       "    </tr>\n",
       "    <tr>\n",
       "      <th>19906</th>\n",
       "      <td>110510</td>\n",
       "    </tr>\n",
       "  </tbody>\n",
       "</table>\n",
       "<p>19907 rows × 1 columns</p>\n",
       "</div>"
      ],
      "text/plain": [
       "       itemid\n",
       "0           3\n",
       "1          62\n",
       "2          70\n",
       "3         110\n",
       "4         260\n",
       "...       ...\n",
       "19902   88993\n",
       "19903   87392\n",
       "19904   95615\n",
       "19905  110167\n",
       "19906  110510\n",
       "\n",
       "[19907 rows x 1 columns]"
      ]
     },
     "execution_count": 4,
     "metadata": {},
     "output_type": "execute_result"
    }
   ],
   "source": [
    "items = pd.read_csv(os.path.join(ds_path, 'unique_iId.txt'))\n",
    "items['iId']=items['iId'].apply(str)\n",
    "items.rename({'iId': 'itemid'}, axis=1, inplace=True)\n",
    "\n",
    "items.to_json(os.path.join(ds_path_out, 'items.json'))\n",
    "items"
   ]
  },
  {
   "cell_type": "code",
   "execution_count": 5,
   "id": "47b3779e",
   "metadata": {},
   "outputs": [
    {
     "data": {
      "text/plain": [
       "array([ True, False])"
      ]
     },
     "execution_count": 5,
     "metadata": {},
     "output_type": "execute_result"
    }
   ],
   "source": [
    "result = train['itemid'].isin(test['itemid'])\n",
    "\n",
    "result.unique()"
   ]
  },
  {
   "cell_type": "markdown",
   "id": "decimal-premium",
   "metadata": {},
   "source": [
    "Purchases and grouped purchases."
   ]
  },
  {
   "cell_type": "code",
   "execution_count": 6,
   "id": "specific-welding",
   "metadata": {},
   "outputs": [
    {
     "name": "stdout",
     "output_type": "stream",
     "text": [
      "  userid                                            itemids\n",
      "0  65280  0,1,2,5,7,8,9,10,12,13,14,15,16,17,18,19,20,21...\n",
      "1  74626  46,47,4,48,50,51,6,52,7,8,53,55,56,58,59,60,62...\n",
      "2  45784  174,1,3,175,176,4,177,48,49,178,179,180,181,18...\n",
      "3  67928  174,4,211,212,185,6,213,214,193,195,216,201,21...\n",
      "4  11534  43,0,290,291,292,293,3,294,295,296,5,298,299,3...\n"
     ]
    }
   ],
   "source": [
    "interactions = full\n",
    "\n",
    "interactions['itemid'] = interactions['itemid'].apply(str)\n",
    "interactions['userid'] = interactions['userid'].apply(str)\n",
    "interactions.reset_index(drop=True, inplace=True)\n",
    "interactions.to_json(os.path.join(ds_path_out, 'purchases.json'))\n",
    "\n",
    "interactions['itemids'] = interactions[['userid','itemid']].groupby(['userid'])['itemid'].transform(lambda x: ','.join(x))\n",
    "iii = interactions[['userid','itemids']].drop_duplicates()\n",
    "iii.reset_index(drop=True, inplace=True)\n",
    "iii.to_json(os.path.join(ds_path_out, 'purchases_txt.json'))\n",
    "print(iii.head())"
   ]
  },
  {
   "cell_type": "markdown",
   "id": "1557d20d",
   "metadata": {},
   "source": [
    "Keep only users with 5 or more interactions.\n",
    "\n",
    "Purchases."
   ]
  },
  {
   "cell_type": "code",
   "execution_count": 7,
   "id": "493894aa",
   "metadata": {},
   "outputs": [
    {
     "name": "stdout",
     "output_type": "stream",
     "text": [
      "136677\n",
      "136677\n",
      "136677\n",
      "19907\n"
     ]
    }
   ],
   "source": [
    "purchases=pd.read_json(os.path.join(ds_path_out, 'purchases.json'))\n",
    "purchases['userid'] = purchases.userid.apply(str)\n",
    "purchases['itemid'] = purchases.itemid.apply(str)\n",
    "#purchases_item_counts = purchases[['uId','iId']]\n",
    "#purchases_user_counts = purchases[['uId','iId']]\n",
    "purchases_user_count = purchases.groupby(['userid']).size().to_frame('nr_of_purchases').reset_index()\n",
    "purchases_user_count = purchases_user_count.sort_values(by=['nr_of_purchases'], ascending=False)\n",
    "print(len(purchases_user_count))\n",
    "pu5=purchases_user_count#[purchases_user_count.nr_of_purchases>=5]\n",
    "print(len(purchases_user_count))\n",
    "print(len(pu5))\n",
    "\n",
    "purchases_pu5 = purchases[purchases.userid.isin(pu5.userid)]\n",
    "purchases_item_count_pu5 = purchases_pu5.groupby(['itemid']).size().to_frame('nr_of_purchases').reset_index()\n",
    "purchases_item_count_pu5 = purchases_item_count_pu5.sort_values(by=['nr_of_purchases'], ascending=False)\n",
    "print(len(purchases_item_count_pu5))\n",
    "\n",
    "#purchases_pu5.to_json(os.path.join(ds_path_out, 'purchases_pu5.json'))\n",
    "purchases.to_json(os.path.join(ds_path_out, 'purchases_pu5.json'))"
   ]
  },
  {
   "cell_type": "markdown",
   "id": "b6d210a7",
   "metadata": {},
   "source": [
    "Grouped purchases."
   ]
  },
  {
   "cell_type": "code",
   "execution_count": 8,
   "metadata": {},
   "outputs": [],
   "source": [
    "purchases_pu5['itemids'] = purchases_pu5[['userid','itemid']].groupby(['userid'])['itemid'].transform(lambda x: ','.join(x))\n",
    "iii = purchases_pu5[['userid','itemids']].drop_duplicates()\n",
    "iii['uId']=iii['userid'].apply(str)\n",
    "iii = iii[['userid','itemids']]\n",
    "iii.to_json(os.path.join(ds_path_out, 'purchases_txt_pu5.json'))"
   ]
  },
  {
   "cell_type": "markdown",
   "id": "optimum-source",
   "metadata": {},
   "source": [
    "Users."
   ]
  },
  {
   "cell_type": "code",
   "execution_count": 9,
   "id": "dramatic-optimum",
   "metadata": {},
   "outputs": [
    {
     "name": "stdout",
     "output_type": "stream",
     "text": [
      "    userid\n",
      "0    65280\n",
      "35   74626\n",
      "135  45784\n",
      "175  67928\n",
      "262  11534\n"
     ]
    }
   ],
   "source": [
    "iii['userid'].to_frame().to_json(os.path.join(ds_path_out, 'users_pu5.json'))\n",
    "print(iii['userid'].to_frame().head())"
   ]
  },
  {
   "cell_type": "markdown",
   "id": "previous-citizenship",
   "metadata": {},
   "source": [
    "Items"
   ]
  },
  {
   "cell_type": "code",
   "execution_count": 10,
   "id": "utility-aurora",
   "metadata": {},
   "outputs": [],
   "source": [
    "#items[items.itemid.isin(purchases_item_count_pu5.itemid)].to_json(\"items_pu5.json\")\n",
    "items[items.itemid.isin(items.itemid)].to_json(os.path.join(ds_path_out, 'items_pu5.json'))"
   ]
  },
  {
   "cell_type": "markdown",
   "id": "sitting-saying",
   "metadata": {},
   "source": [
    "Items sorted by number of interactions"
   ]
  },
  {
   "cell_type": "code",
   "execution_count": 11,
   "id": "suited-cabin",
   "metadata": {},
   "outputs": [
    {
     "data": {
      "text/html": [
       "<div>\n",
       "<style scoped>\n",
       "    .dataframe tbody tr th:only-of-type {\n",
       "        vertical-align: middle;\n",
       "    }\n",
       "\n",
       "    .dataframe tbody tr th {\n",
       "        vertical-align: top;\n",
       "    }\n",
       "\n",
       "    .dataframe thead th {\n",
       "        text-align: right;\n",
       "    }\n",
       "</style>\n",
       "<table border=\"1\" class=\"dataframe\">\n",
       "  <thead>\n",
       "    <tr style=\"text-align: right;\">\n",
       "      <th></th>\n",
       "      <th>itemid</th>\n",
       "      <th>nr_of_purchases</th>\n",
       "    </tr>\n",
       "  </thead>\n",
       "  <tbody>\n",
       "    <tr>\n",
       "      <th>14241</th>\n",
       "      <td>49</td>\n",
       "      <td>55705</td>\n",
       "    </tr>\n",
       "    <tr>\n",
       "      <th>12143</th>\n",
       "      <td>301</td>\n",
       "      <td>52265</td>\n",
       "    </tr>\n",
       "    <tr>\n",
       "      <th>14686</th>\n",
       "      <td>53</td>\n",
       "      <td>50061</td>\n",
       "    </tr>\n",
       "    <tr>\n",
       "      <th>11154</th>\n",
       "      <td>212</td>\n",
       "      <td>47302</td>\n",
       "    </tr>\n",
       "    <tr>\n",
       "      <th>13241</th>\n",
       "      <td>4</td>\n",
       "      <td>42578</td>\n",
       "    </tr>\n",
       "    <tr>\n",
       "      <th>...</th>\n",
       "      <td>...</td>\n",
       "      <td>...</td>\n",
       "    </tr>\n",
       "    <tr>\n",
       "      <th>9126</th>\n",
       "      <td>18210</td>\n",
       "      <td>1</td>\n",
       "    </tr>\n",
       "    <tr>\n",
       "      <th>6074</th>\n",
       "      <td>15464</td>\n",
       "      <td>1</td>\n",
       "    </tr>\n",
       "    <tr>\n",
       "      <th>6073</th>\n",
       "      <td>15463</td>\n",
       "      <td>1</td>\n",
       "    </tr>\n",
       "    <tr>\n",
       "      <th>9129</th>\n",
       "      <td>18213</td>\n",
       "      <td>1</td>\n",
       "    </tr>\n",
       "    <tr>\n",
       "      <th>5373</th>\n",
       "      <td>14833</td>\n",
       "      <td>1</td>\n",
       "    </tr>\n",
       "  </tbody>\n",
       "</table>\n",
       "<p>19907 rows × 2 columns</p>\n",
       "</div>"
      ],
      "text/plain": [
       "      itemid  nr_of_purchases\n",
       "14241     49            55705\n",
       "12143    301            52265\n",
       "14686     53            50061\n",
       "11154    212            47302\n",
       "13241      4            42578\n",
       "...      ...              ...\n",
       "9126   18210                1\n",
       "6074   15464                1\n",
       "6073   15463                1\n",
       "9129   18213                1\n",
       "5373   14833                1\n",
       "\n",
       "[19907 rows x 2 columns]"
      ]
     },
     "execution_count": 11,
     "metadata": {},
     "output_type": "execute_result"
    }
   ],
   "source": [
    "purchases_item_count_pu5.to_json(os.path.join(ds_path_out, 'items_sorted_pu5.json'))\n",
    "purchases_item_count_pu5"
   ]
  },
  {
   "cell_type": "markdown",
   "id": "attached-center",
   "metadata": {},
   "source": [
    "Users sorted by number of interactions"
   ]
  },
  {
   "cell_type": "code",
   "execution_count": 12,
   "id": "included-george",
   "metadata": {},
   "outputs": [
    {
     "data": {
      "text/html": [
       "<div>\n",
       "<style scoped>\n",
       "    .dataframe tbody tr th:only-of-type {\n",
       "        vertical-align: middle;\n",
       "    }\n",
       "\n",
       "    .dataframe tbody tr th {\n",
       "        vertical-align: top;\n",
       "    }\n",
       "\n",
       "    .dataframe thead th {\n",
       "        text-align: right;\n",
       "    }\n",
       "</style>\n",
       "<table border=\"1\" class=\"dataframe\">\n",
       "  <thead>\n",
       "    <tr style=\"text-align: right;\">\n",
       "      <th></th>\n",
       "      <th>userid</th>\n",
       "      <th>nr_of_purchases</th>\n",
       "    </tr>\n",
       "  </thead>\n",
       "  <tbody>\n",
       "    <tr>\n",
       "      <th>66546</th>\n",
       "      <td>36880</td>\n",
       "      <td>3177</td>\n",
       "    </tr>\n",
       "    <tr>\n",
       "      <th>49700</th>\n",
       "      <td>21718</td>\n",
       "      <td>2655</td>\n",
       "    </tr>\n",
       "    <tr>\n",
       "      <th>52403</th>\n",
       "      <td>24150</td>\n",
       "      <td>2503</td>\n",
       "    </tr>\n",
       "    <tr>\n",
       "      <th>32915</th>\n",
       "      <td>129620</td>\n",
       "      <td>2376</td>\n",
       "    </tr>\n",
       "    <tr>\n",
       "      <th>94965</th>\n",
       "      <td>62457</td>\n",
       "      <td>2349</td>\n",
       "    </tr>\n",
       "    <tr>\n",
       "      <th>...</th>\n",
       "      <td>...</td>\n",
       "      <td>...</td>\n",
       "    </tr>\n",
       "    <tr>\n",
       "      <th>8757</th>\n",
       "      <td>107879</td>\n",
       "      <td>5</td>\n",
       "    </tr>\n",
       "    <tr>\n",
       "      <th>102838</th>\n",
       "      <td>69543</td>\n",
       "      <td>5</td>\n",
       "    </tr>\n",
       "    <tr>\n",
       "      <th>123544</th>\n",
       "      <td>88179</td>\n",
       "      <td>5</td>\n",
       "    </tr>\n",
       "    <tr>\n",
       "      <th>92111</th>\n",
       "      <td>5989</td>\n",
       "      <td>5</td>\n",
       "    </tr>\n",
       "    <tr>\n",
       "      <th>69452</th>\n",
       "      <td>39496</td>\n",
       "      <td>5</td>\n",
       "    </tr>\n",
       "  </tbody>\n",
       "</table>\n",
       "<p>136677 rows × 2 columns</p>\n",
       "</div>"
      ],
      "text/plain": [
       "        userid  nr_of_purchases\n",
       "66546    36880             3177\n",
       "49700    21718             2655\n",
       "52403    24150             2503\n",
       "32915   129620             2376\n",
       "94965    62457             2349\n",
       "...        ...              ...\n",
       "8757    107879                5\n",
       "102838   69543                5\n",
       "123544   88179                5\n",
       "92111     5989                5\n",
       "69452    39496                5\n",
       "\n",
       "[136677 rows x 2 columns]"
      ]
     },
     "execution_count": 12,
     "metadata": {},
     "output_type": "execute_result"
    }
   ],
   "source": [
    "pu5.to_json(os.path.join(ds_path_out, 'users_sorted_pu5.json'))\n",
    "pu5"
   ]
  },
  {
   "cell_type": "markdown",
   "id": "growing-closer",
   "metadata": {},
   "source": [
    "Create train, val and test split."
   ]
  },
  {
   "cell_type": "code",
   "execution_count": 13,
   "id": "antique-surfing",
   "metadata": {},
   "outputs": [
    {
     "name": "stdout",
     "output_type": "stream",
     "text": [
      "    userid\n",
      "0   134677\n",
      "13  123737\n",
      "25  128041\n",
      "53  130583\n",
      "79  128326\n",
      "     userid\n",
      "0    116149\n",
      "71   120983\n",
      "171  121633\n",
      "221  115830\n",
      "229  115556\n",
      "     userid\n",
      "0     65280\n",
      "35    74626\n",
      "135   45784\n",
      "175   67928\n",
      "262   11534\n"
     ]
    },
    {
     "data": {
      "text/plain": [
       "(109342, 13668, 13667)"
      ]
     },
     "execution_count": 13,
     "metadata": {},
     "output_type": "execute_result"
    }
   ],
   "source": [
    "#users = pd.read_json('users_pu5.json')\n",
    "#shuffled_users = users.sample(frac=1., random_state=42)\n",
    "test_users = test['userid'].to_frame().drop_duplicates(subset=['userid'])\n",
    "val_users = val['userid'].to_frame().drop_duplicates(subset=['userid'])\n",
    "train_users = train['userid'].to_frame().drop_duplicates(subset=['userid'])\n",
    "\n",
    "test_users.to_json(os.path.join(ds_path_out, \"test_users.json\"))\n",
    "print(test_users.head())\n",
    "val_users.to_json(os.path.join(ds_path_out, \"val_users.json\"))\n",
    "print(val_users.head())\n",
    "train_users.to_json(os.path.join(ds_path_out, \"train_users.json\"))\n",
    "print(train_users.head())\n",
    "\n",
    "len(train_users),len(val_users),len(test_users)"
   ]
  },
  {
   "cell_type": "markdown",
   "id": "together-cooler",
   "metadata": {},
   "source": [
    "List of generated json files with preprocessed data."
   ]
  },
  {
   "cell_type": "code",
   "execution_count": 14,
   "id": "naughty-aircraft",
   "metadata": {},
   "outputs": [
    {
     "name": "stdout",
     "output_type": "stream",
     "text": [
      "/home/ubuntu/vasp/Datasets/netflix/preprocessed_vasp/items.json\n",
      "/home/ubuntu/vasp/Datasets/netflix/preprocessed_vasp/purchases.json\n",
      "/home/ubuntu/vasp/Datasets/netflix/preprocessed_vasp/purchases_txt.json\n"
     ]
    }
   ],
   "source": [
    "!ls /home/ubuntu/vasp/Datasets/netflix/preprocessed_vasp/*.json"
   ]
  },
  {
   "cell_type": "code",
   "execution_count": null,
   "id": "56280edd",
   "metadata": {},
   "outputs": [],
   "source": []
  }
 ],
 "metadata": {
  "kernelspec": {
   "display_name": "pytorch",
   "language": "python",
   "name": "python3"
  },
  "language_info": {
   "codemirror_mode": {
    "name": "ipython",
    "version": 3
   },
   "file_extension": ".py",
   "mimetype": "text/x-python",
   "name": "python",
   "nbconvert_exporter": "python",
   "pygments_lexer": "ipython3",
   "version": "3.9.13"
  },
  "vscode": {
   "interpreter": {
    "hash": "2d58e898dde0263bc564c6968b04150abacfd33eed9b19aaa8e45c040360e146"
   }
  }
 },
 "nbformat": 4,
 "nbformat_minor": 5
}
